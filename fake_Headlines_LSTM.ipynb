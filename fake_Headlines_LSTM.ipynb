{
  "nbformat": 4,
  "nbformat_minor": 0,
  "metadata": {
    "colab": {
      "name": "fake_Headlines_LSTM.ipynb",
      "provenance": [],
      "include_colab_link": true
    },
    "kernelspec": {
      "name": "python3",
      "display_name": "Python 3"
    },
    "language_info": {
      "name": "python"
    }
  },
  "cells": [
    {
      "cell_type": "markdown",
      "metadata": {
        "id": "view-in-github",
        "colab_type": "text"
      },
      "source": [
        "<a href=\"https://colab.research.google.com/github/sanyhmahadi/Fake-News-Detection/blob/master/fake_Headlines_LSTM.ipynb\" target=\"_parent\"><img src=\"https://colab.research.google.com/assets/colab-badge.svg\" alt=\"Open In Colab\"/></a>"
      ]
    },
    {
      "cell_type": "code",
      "metadata": {
        "colab": {
          "base_uri": "https://localhost:8080/"
        },
        "id": "JfTnjGS7VSPF",
        "outputId": "12814b00-d3f9-498c-f85c-034d719a7144"
      },
      "source": [
        "from google.colab import drive\n",
        "drive.mount('/content/drive')"
      ],
      "execution_count": null,
      "outputs": [
        {
          "output_type": "stream",
          "name": "stdout",
          "text": [
            "Drive already mounted at /content/drive; to attempt to forcibly remount, call drive.mount(\"/content/drive\", force_remount=True).\n"
          ]
        }
      ]
    },
    {
      "cell_type": "code",
      "metadata": {
        "id": "S9dc2eq03LD8"
      },
      "source": [
        "import pandas as pd\n",
        "df=pd.read_excel(\"/content/drive/MyDrive/Research/NLP/Sentiment Data/FakevsAuthentic news edit sany.xlsx\")"
      ],
      "execution_count": null,
      "outputs": []
    },
    {
      "cell_type": "code",
      "metadata": {
        "colab": {
          "base_uri": "https://localhost:8080/"
        },
        "id": "Sofgac35GS4D",
        "outputId": "d7bf5e88-62e0-45cd-d242-29ceebcbb1c0"
      },
      "source": [
        "df.shape"
      ],
      "execution_count": null,
      "outputs": [
        {
          "output_type": "execute_result",
          "data": {
            "text/plain": [
              "(6193, 2)"
            ]
          },
          "metadata": {},
          "execution_count": 114
        }
      ]
    },
    {
      "cell_type": "code",
      "metadata": {
        "id": "tPqHcK1fCbpr"
      },
      "source": [
        "import numpy as np # linear algebra\n",
        "import pandas as pd # data processing, CSV file I/O (e.g. pd.read_csv)\n",
        "import itertools\n",
        "from sklearn.model_selection import train_test_split\n",
        "from sklearn.linear_model import PassiveAggressiveClassifier\n",
        "from sklearn.metrics import accuracy_score, confusion_matrix\n",
        "import string as st\n",
        "import re\n",
        "import nltk\n",
        "from nltk import PorterStemmer, WordNetLemmatizer\n",
        "import matplotlib.pyplot as plt\n",
        "\n",
        "# import os\n",
        "# for dirname, _, filenames in os.walk('/kaggle/input'):\n",
        "#     for filename in filenames:\n",
        "#         print(os.path.join(dirname, filename))\n"
      ],
      "execution_count": null,
      "outputs": []
    },
    {
      "cell_type": "code",
      "metadata": {
        "colab": {
          "base_uri": "https://localhost:8080/",
          "height": 206
        },
        "id": "j7UMAEViDDVy",
        "outputId": "903171c5-055b-4ebc-8098-610481368b29"
      },
      "source": [
        "df.head()"
      ],
      "execution_count": null,
      "outputs": [
        {
          "output_type": "execute_result",
          "data": {
            "text/html": [
              "<div>\n",
              "<style scoped>\n",
              "    .dataframe tbody tr th:only-of-type {\n",
              "        vertical-align: middle;\n",
              "    }\n",
              "\n",
              "    .dataframe tbody tr th {\n",
              "        vertical-align: top;\n",
              "    }\n",
              "\n",
              "    .dataframe thead th {\n",
              "        text-align: right;\n",
              "    }\n",
              "</style>\n",
              "<table border=\"1\" class=\"dataframe\">\n",
              "  <thead>\n",
              "    <tr style=\"text-align: right;\">\n",
              "      <th></th>\n",
              "      <th>Headline</th>\n",
              "      <th>Label</th>\n",
              "    </tr>\n",
              "  </thead>\n",
              "  <tbody>\n",
              "    <tr>\n",
              "      <th>0</th>\n",
              "      <td>মুরগির হামলায় শেয়াল নিহত</td>\n",
              "      <td>Fake</td>\n",
              "    </tr>\n",
              "    <tr>\n",
              "      <th>1</th>\n",
              "      <td>বিটিভিতে যেবার আমি ইন্টারভিউ দিতে গেলাম</td>\n",
              "      <td>Fake</td>\n",
              "    </tr>\n",
              "    <tr>\n",
              "      <th>2</th>\n",
              "      <td>বিদেশ থেকে উন্নতমানের বিরোধীদল আমদানি করার পরা...</td>\n",
              "      <td>Fake</td>\n",
              "    </tr>\n",
              "    <tr>\n",
              "      <th>3</th>\n",
              "      <td>অবসর নেয়ার ঘোষণা দিলেন মেসি !</td>\n",
              "      <td>Fake</td>\n",
              "    </tr>\n",
              "    <tr>\n",
              "      <th>4</th>\n",
              "      <td>মাদারফাকার নহে, ব্রাদারফাকার: সাকা | দৈনিক মতি...</td>\n",
              "      <td>Fake</td>\n",
              "    </tr>\n",
              "  </tbody>\n",
              "</table>\n",
              "</div>"
            ],
            "text/plain": [
              "                                            Headline Label\n",
              "0                           মুরগির হামলায় শেয়াল নিহত  Fake\n",
              "1            বিটিভিতে যেবার আমি ইন্টারভিউ দিতে গেলাম  Fake\n",
              "2  বিদেশ থেকে উন্নতমানের বিরোধীদল আমদানি করার পরা...  Fake\n",
              "3                      অবসর নেয়ার ঘোষণা দিলেন মেসি !  Fake\n",
              "4  মাদারফাকার নহে, ব্রাদারফাকার: সাকা | দৈনিক মতি...  Fake"
            ]
          },
          "metadata": {},
          "execution_count": 116
        }
      ]
    },
    {
      "cell_type": "code",
      "metadata": {
        "colab": {
          "base_uri": "https://localhost:8080/"
        },
        "id": "kHW2khDjDOnh",
        "outputId": "e545f528-3698-496c-8baa-ffb087d53b0f"
      },
      "source": [
        "print(np.unique(df['Label']))\n",
        "print(np.unique(df['Label'].value_counts()))"
      ],
      "execution_count": null,
      "outputs": [
        {
          "output_type": "stream",
          "name": "stdout",
          "text": [
            "['Authentic' 'Fake']\n",
            "[3095 3098]\n"
          ]
        }
      ]
    },
    {
      "cell_type": "code",
      "metadata": {
        "colab": {
          "base_uri": "https://localhost:8080/"
        },
        "id": "daqardGyDvud",
        "outputId": "cfd3dfa5-21b8-41cd-bb21-61f0a256bc32"
      },
      "source": [
        "df['Headline'].value_counts()"
      ],
      "execution_count": null,
      "outputs": [
        {
          "output_type": "execute_result",
          "data": {
            "text/plain": [
              "এক যে আছে মজার দেশ সব রকমে ভালো, পরের মুখে হাঁচি দিতে সবার লাগে ভালো!    10\n",
              "ভাঙা গাল শেভ করার যে দুর্দান্ত টেকনিক আপনার অবশ্যই শিখে নেয়া উচিত         8\n",
              "একজন নারী দেহরক্ষীর গোপন জীবন                                             6\n",
              "কবির দুচোখ সাদা, তাতে এক ফোঁটা নেই লালও!                                  4\n",
              "দ্রুত ডেলিভারি দিতে ইন্টারনেট এক্সপ্লোরার কিনতে চায় ইভ্যালি               4\n",
              "                                                                         ..\n",
              "অর্থপাচার: ২১ দফা অভিযোগের মুখে নাজিব রাজাক                               1\n",
              "'অাদালতে হাজির হওয়ার মতো শারীরিক সুস্থতা নেই খালেদা জিয়ার'                1\n",
              "বন্দরে সেফটিক ট্যাংকে বিস্ফোরণে ভবনের ব্যাপক ক্ষতি, আহত ৪                 1\n",
              "বিদেশে “বিরল অর্জন” দেশে বিরাট সংবর্ধনা! | দৈনিক মতিকণ্ঠ                  1\n",
              "৩০০ আসনে প্রার্থী দিতে প্রস্তুতি নিচ্ছে বৃহত্তর জাতীয় ঐক্য                1\n",
              "Name: Headline, Length: 5903, dtype: int64"
            ]
          },
          "metadata": {},
          "execution_count": 118
        }
      ]
    },
    {
      "cell_type": "code",
      "metadata": {
        "id": "TwY-n3AQGe4R"
      },
      "source": [
        "def remove_punct(News):\n",
        "    return (\"\".join([ch for ch in News if ch not in st.punctuation]))"
      ],
      "execution_count": null,
      "outputs": []
    },
    {
      "cell_type": "code",
      "metadata": {
        "colab": {
          "base_uri": "https://localhost:8080/",
          "height": 206
        },
        "id": "PaLX56bWG5Qt",
        "outputId": "47925f80-fc46-4585-b8d5-8be070d8548a"
      },
      "source": [
        "df['removed_punc'] = df['Headline'].apply(lambda x: remove_punct(x))\n",
        "df.head()"
      ],
      "execution_count": null,
      "outputs": [
        {
          "output_type": "execute_result",
          "data": {
            "text/html": [
              "<div>\n",
              "<style scoped>\n",
              "    .dataframe tbody tr th:only-of-type {\n",
              "        vertical-align: middle;\n",
              "    }\n",
              "\n",
              "    .dataframe tbody tr th {\n",
              "        vertical-align: top;\n",
              "    }\n",
              "\n",
              "    .dataframe thead th {\n",
              "        text-align: right;\n",
              "    }\n",
              "</style>\n",
              "<table border=\"1\" class=\"dataframe\">\n",
              "  <thead>\n",
              "    <tr style=\"text-align: right;\">\n",
              "      <th></th>\n",
              "      <th>Headline</th>\n",
              "      <th>Label</th>\n",
              "      <th>removed_punc</th>\n",
              "    </tr>\n",
              "  </thead>\n",
              "  <tbody>\n",
              "    <tr>\n",
              "      <th>0</th>\n",
              "      <td>মুরগির হামলায় শেয়াল নিহত</td>\n",
              "      <td>Fake</td>\n",
              "      <td>মুরগির হামলায় শেয়াল নিহত</td>\n",
              "    </tr>\n",
              "    <tr>\n",
              "      <th>1</th>\n",
              "      <td>বিটিভিতে যেবার আমি ইন্টারভিউ দিতে গেলাম</td>\n",
              "      <td>Fake</td>\n",
              "      <td>বিটিভিতে যেবার আমি ইন্টারভিউ দিতে গেলাম</td>\n",
              "    </tr>\n",
              "    <tr>\n",
              "      <th>2</th>\n",
              "      <td>বিদেশ থেকে উন্নতমানের বিরোধীদল আমদানি করার পরা...</td>\n",
              "      <td>Fake</td>\n",
              "      <td>বিদেশ থেকে উন্নতমানের বিরোধীদল আমদানি করার পরা...</td>\n",
              "    </tr>\n",
              "    <tr>\n",
              "      <th>3</th>\n",
              "      <td>অবসর নেয়ার ঘোষণা দিলেন মেসি !</td>\n",
              "      <td>Fake</td>\n",
              "      <td>অবসর নেয়ার ঘোষণা দিলেন মেসি</td>\n",
              "    </tr>\n",
              "    <tr>\n",
              "      <th>4</th>\n",
              "      <td>মাদারফাকার নহে, ব্রাদারফাকার: সাকা | দৈনিক মতি...</td>\n",
              "      <td>Fake</td>\n",
              "      <td>মাদারফাকার নহে ব্রাদারফাকার সাকা  দৈনিক মতিকণ্ঠ</td>\n",
              "    </tr>\n",
              "  </tbody>\n",
              "</table>\n",
              "</div>"
            ],
            "text/plain": [
              "                                            Headline  ...                                       removed_punc\n",
              "0                           মুরগির হামলায় শেয়াল নিহত  ...                           মুরগির হামলায় শেয়াল নিহত\n",
              "1            বিটিভিতে যেবার আমি ইন্টারভিউ দিতে গেলাম  ...            বিটিভিতে যেবার আমি ইন্টারভিউ দিতে গেলাম\n",
              "2  বিদেশ থেকে উন্নতমানের বিরোধীদল আমদানি করার পরা...  ...  বিদেশ থেকে উন্নতমানের বিরোধীদল আমদানি করার পরা...\n",
              "3                      অবসর নেয়ার ঘোষণা দিলেন মেসি !  ...                       অবসর নেয়ার ঘোষণা দিলেন মেসি \n",
              "4  মাদারফাকার নহে, ব্রাদারফাকার: সাকা | দৈনিক মতি...  ...    মাদারফাকার নহে ব্রাদারফাকার সাকা  দৈনিক মতিকণ্ঠ\n",
              "\n",
              "[5 rows x 3 columns]"
            ]
          },
          "metadata": {},
          "execution_count": 120
        }
      ]
    },
    {
      "cell_type": "code",
      "metadata": {
        "colab": {
          "base_uri": "https://localhost:8080/",
          "height": 206
        },
        "id": "R1j5L6-O3W1_",
        "outputId": "263b510d-2453-4af4-a87a-66796ee89197"
      },
      "source": [
        "import pandas as pd\n",
        "import numpy as np\n",
        "from sklearn.model_selection import train_test_split\n",
        "\n",
        "df.head(5)"
      ],
      "execution_count": null,
      "outputs": [
        {
          "output_type": "execute_result",
          "data": {
            "text/html": [
              "<div>\n",
              "<style scoped>\n",
              "    .dataframe tbody tr th:only-of-type {\n",
              "        vertical-align: middle;\n",
              "    }\n",
              "\n",
              "    .dataframe tbody tr th {\n",
              "        vertical-align: top;\n",
              "    }\n",
              "\n",
              "    .dataframe thead th {\n",
              "        text-align: right;\n",
              "    }\n",
              "</style>\n",
              "<table border=\"1\" class=\"dataframe\">\n",
              "  <thead>\n",
              "    <tr style=\"text-align: right;\">\n",
              "      <th></th>\n",
              "      <th>Headline</th>\n",
              "      <th>Label</th>\n",
              "      <th>removed_punc</th>\n",
              "    </tr>\n",
              "  </thead>\n",
              "  <tbody>\n",
              "    <tr>\n",
              "      <th>0</th>\n",
              "      <td>মুরগির হামলায় শেয়াল নিহত</td>\n",
              "      <td>Fake</td>\n",
              "      <td>মুরগির হামলায় শেয়াল নিহত</td>\n",
              "    </tr>\n",
              "    <tr>\n",
              "      <th>1</th>\n",
              "      <td>বিটিভিতে যেবার আমি ইন্টারভিউ দিতে গেলাম</td>\n",
              "      <td>Fake</td>\n",
              "      <td>বিটিভিতে যেবার আমি ইন্টারভিউ দিতে গেলাম</td>\n",
              "    </tr>\n",
              "    <tr>\n",
              "      <th>2</th>\n",
              "      <td>বিদেশ থেকে উন্নতমানের বিরোধীদল আমদানি করার পরা...</td>\n",
              "      <td>Fake</td>\n",
              "      <td>বিদেশ থেকে উন্নতমানের বিরোধীদল আমদানি করার পরা...</td>\n",
              "    </tr>\n",
              "    <tr>\n",
              "      <th>3</th>\n",
              "      <td>অবসর নেয়ার ঘোষণা দিলেন মেসি !</td>\n",
              "      <td>Fake</td>\n",
              "      <td>অবসর নেয়ার ঘোষণা দিলেন মেসি</td>\n",
              "    </tr>\n",
              "    <tr>\n",
              "      <th>4</th>\n",
              "      <td>মাদারফাকার নহে, ব্রাদারফাকার: সাকা | দৈনিক মতি...</td>\n",
              "      <td>Fake</td>\n",
              "      <td>মাদারফাকার নহে ব্রাদারফাকার সাকা  দৈনিক মতিকণ্ঠ</td>\n",
              "    </tr>\n",
              "  </tbody>\n",
              "</table>\n",
              "</div>"
            ],
            "text/plain": [
              "                                            Headline  ...                                       removed_punc\n",
              "0                           মুরগির হামলায় শেয়াল নিহত  ...                           মুরগির হামলায় শেয়াল নিহত\n",
              "1            বিটিভিতে যেবার আমি ইন্টারভিউ দিতে গেলাম  ...            বিটিভিতে যেবার আমি ইন্টারভিউ দিতে গেলাম\n",
              "2  বিদেশ থেকে উন্নতমানের বিরোধীদল আমদানি করার পরা...  ...  বিদেশ থেকে উন্নতমানের বিরোধীদল আমদানি করার পরা...\n",
              "3                      অবসর নেয়ার ঘোষণা দিলেন মেসি !  ...                       অবসর নেয়ার ঘোষণা দিলেন মেসি \n",
              "4  মাদারফাকার নহে, ব্রাদারফাকার: সাকা | দৈনিক মতি...  ...    মাদারফাকার নহে ব্রাদারফাকার সাকা  দৈনিক মতিকণ্ঠ\n",
              "\n",
              "[5 rows x 3 columns]"
            ]
          },
          "metadata": {},
          "execution_count": 121
        }
      ]
    },
    {
      "cell_type": "code",
      "metadata": {
        "colab": {
          "base_uri": "https://localhost:8080/",
          "height": 424
        },
        "id": "UFKG4iAl3LHQ",
        "outputId": "7ec6e955-43a9-4919-9e98-8477f3f1e1be"
      },
      "source": [
        "y = df.Label \n",
        "df.drop(\"Label\", axis=1)"
      ],
      "execution_count": null,
      "outputs": [
        {
          "output_type": "execute_result",
          "data": {
            "text/html": [
              "<div>\n",
              "<style scoped>\n",
              "    .dataframe tbody tr th:only-of-type {\n",
              "        vertical-align: middle;\n",
              "    }\n",
              "\n",
              "    .dataframe tbody tr th {\n",
              "        vertical-align: top;\n",
              "    }\n",
              "\n",
              "    .dataframe thead th {\n",
              "        text-align: right;\n",
              "    }\n",
              "</style>\n",
              "<table border=\"1\" class=\"dataframe\">\n",
              "  <thead>\n",
              "    <tr style=\"text-align: right;\">\n",
              "      <th></th>\n",
              "      <th>Headline</th>\n",
              "      <th>removed_punc</th>\n",
              "    </tr>\n",
              "  </thead>\n",
              "  <tbody>\n",
              "    <tr>\n",
              "      <th>0</th>\n",
              "      <td>মুরগির হামলায় শেয়াল নিহত</td>\n",
              "      <td>মুরগির হামলায় শেয়াল নিহত</td>\n",
              "    </tr>\n",
              "    <tr>\n",
              "      <th>1</th>\n",
              "      <td>বিটিভিতে যেবার আমি ইন্টারভিউ দিতে গেলাম</td>\n",
              "      <td>বিটিভিতে যেবার আমি ইন্টারভিউ দিতে গেলাম</td>\n",
              "    </tr>\n",
              "    <tr>\n",
              "      <th>2</th>\n",
              "      <td>বিদেশ থেকে উন্নতমানের বিরোধীদল আমদানি করার পরা...</td>\n",
              "      <td>বিদেশ থেকে উন্নতমানের বিরোধীদল আমদানি করার পরা...</td>\n",
              "    </tr>\n",
              "    <tr>\n",
              "      <th>3</th>\n",
              "      <td>অবসর নেয়ার ঘোষণা দিলেন মেসি !</td>\n",
              "      <td>অবসর নেয়ার ঘোষণা দিলেন মেসি</td>\n",
              "    </tr>\n",
              "    <tr>\n",
              "      <th>4</th>\n",
              "      <td>মাদারফাকার নহে, ব্রাদারফাকার: সাকা | দৈনিক মতি...</td>\n",
              "      <td>মাদারফাকার নহে ব্রাদারফাকার সাকা  দৈনিক মতিকণ্ঠ</td>\n",
              "    </tr>\n",
              "    <tr>\n",
              "      <th>...</th>\n",
              "      <td>...</td>\n",
              "      <td>...</td>\n",
              "    </tr>\n",
              "    <tr>\n",
              "      <th>6188</th>\n",
              "      <td>সিএমপির তিন থানার ওসি পদে রদবদল</td>\n",
              "      <td>সিএমপির তিন থানার ওসি পদে রদবদল</td>\n",
              "    </tr>\n",
              "    <tr>\n",
              "      <th>6189</th>\n",
              "      <td>বল হাতে উইকেটে জাদু দেখাচ্ছেন সাকিব</td>\n",
              "      <td>বল হাতে উইকেটে জাদু দেখাচ্ছেন সাকিব</td>\n",
              "    </tr>\n",
              "    <tr>\n",
              "      <th>6190</th>\n",
              "      <td>রোহিঙ্গা সংকট নিরসনে রাজনৈতিক সমাধানের আহ্বান</td>\n",
              "      <td>রোহিঙ্গা সংকট নিরসনে রাজনৈতিক সমাধানের আহ্বান</td>\n",
              "    </tr>\n",
              "    <tr>\n",
              "      <th>6191</th>\n",
              "      <td>অস্বাভাবিক দাম বৃদ্ধির কারণ জানে না চার কোম্পানি</td>\n",
              "      <td>অস্বাভাবিক দাম বৃদ্ধির কারণ জানে না চার কোম্পানি</td>\n",
              "    </tr>\n",
              "    <tr>\n",
              "      <th>6192</th>\n",
              "      <td>‘শৈশবের সততা শিক্ষা শিক্ষার্থীদের সুনাগরিক করবে’</td>\n",
              "      <td>‘শৈশবের সততা শিক্ষা শিক্ষার্থীদের সুনাগরিক করবে’</td>\n",
              "    </tr>\n",
              "  </tbody>\n",
              "</table>\n",
              "<p>6193 rows × 2 columns</p>\n",
              "</div>"
            ],
            "text/plain": [
              "                                               Headline                                       removed_punc\n",
              "0                              মুরগির হামলায় শেয়াল নিহত                           মুরগির হামলায় শেয়াল নিহত\n",
              "1               বিটিভিতে যেবার আমি ইন্টারভিউ দিতে গেলাম            বিটিভিতে যেবার আমি ইন্টারভিউ দিতে গেলাম\n",
              "2     বিদেশ থেকে উন্নতমানের বিরোধীদল আমদানি করার পরা...  বিদেশ থেকে উন্নতমানের বিরোধীদল আমদানি করার পরা...\n",
              "3                         অবসর নেয়ার ঘোষণা দিলেন মেসি !                       অবসর নেয়ার ঘোষণা দিলেন মেসি \n",
              "4     মাদারফাকার নহে, ব্রাদারফাকার: সাকা | দৈনিক মতি...    মাদারফাকার নহে ব্রাদারফাকার সাকা  দৈনিক মতিকণ্ঠ\n",
              "...                                                 ...                                                ...\n",
              "6188                   সিএমপির তিন থানার ওসি পদে রদবদল                    সিএমপির তিন থানার ওসি পদে রদবদল \n",
              "6189                বল হাতে উইকেটে জাদু দেখাচ্ছেন সাকিব                বল হাতে উইকেটে জাদু দেখাচ্ছেন সাকিব\n",
              "6190    রোহিঙ্গা সংকট নিরসনে রাজনৈতিক সমাধানের আহ্বান      রোহিঙ্গা সংকট নিরসনে রাজনৈতিক সমাধানের আহ্বান  \n",
              "6191   অস্বাভাবিক দাম বৃদ্ধির কারণ জানে না চার কোম্পানি   অস্বাভাবিক দাম বৃদ্ধির কারণ জানে না চার কোম্পানি\n",
              "6192  ‘শৈশবের সততা শিক্ষা শিক্ষার্থীদের সুনাগরিক করবে’   ‘শৈশবের সততা শিক্ষা শিক্ষার্থীদের সুনাগরিক করবে’ \n",
              "\n",
              "[6193 rows x 2 columns]"
            ]
          },
          "metadata": {},
          "execution_count": 122
        }
      ]
    },
    {
      "cell_type": "code",
      "metadata": {
        "id": "Gi2LjzvX3_Z_"
      },
      "source": [
        "df.Headline = df.Headline.str.replace(r'http[\\w:/\\.]+','<URL>') \n",
        "\n",
        "df.Headline = df.Headline.str.replace(r'[^\\.\\w\\s]','') \n",
        "df.Headline = df.Headline.str.replace(r'\\.\\.+','.') \n",
        "\n",
        "df.Headline = df.Headline.str.replace(r'\\.',' . ') \n",
        "\n",
        "df.Headline = df.Headline.str.replace(r'\\s\\s+',' ') \n",
        "\n",
        "df.Headline = df.Headline.str.strip()"
      ],
      "execution_count": null,
      "outputs": []
    },
    {
      "cell_type": "code",
      "metadata": {
        "colab": {
          "base_uri": "https://localhost:8080/"
        },
        "id": "GE7iEcsf4G_x",
        "outputId": "5446496c-5d01-409b-ba66-8bb6383243b3"
      },
      "source": [
        "df.Headline.values"
      ],
      "execution_count": null,
      "outputs": [
        {
          "output_type": "execute_result",
          "data": {
            "text/plain": [
              "array(['মরগর হমলয় শয়ল নহত', 'বটভত যবর আম ইনটরভউ দত গলম',\n",
              "       'বদশ থক উননতমনর বরধদল আমদন করর পরমরশ দলন অনলইন রজনত বশষজঞর', ...,\n",
              "       'রহঙগ সকট নরসন রজনতক সমধনর আহবন',\n",
              "       'অসবভবক দম বদধর করণ জন ন চর কমপন',\n",
              "       'শশবর সতত শকষ শকষরথদর সনগরক করব'], dtype=object)"
            ]
          },
          "metadata": {},
          "execution_count": 124
        }
      ]
    },
    {
      "cell_type": "code",
      "metadata": {
        "id": "J_05Br_p4K88"
      },
      "source": [
        "from collections import Counter\n",
        "all_text = ' '.join(str(v) for v in df.Headline.values)\n",
        "words = all_text.split()\n",
        "u_words = Counter(words).most_common()\n",
        "u_words_counter = u_words\n",
        "u_words_frequent = [word[0] for word in u_words if word[1]>5]"
      ],
      "execution_count": null,
      "outputs": []
    },
    {
      "cell_type": "code",
      "metadata": {
        "id": "cqgoFoRH4SM9"
      },
      "source": [
        "import matplotlib.pyplot as plt\n",
        "\n",
        "import re\n",
        "\n",
        "from keras.models import Sequential\n",
        "from keras.layers import Activation, Dropout, Flatten, Dense, BatchNormalization, LSTM, Embedding, Reshape\n",
        "from keras.models import load_model, model_from_json\n",
        "\n",
        "from sklearn.model_selection import train_test_split\n",
        "\n",
        "import os\n",
        "import urllib\n",
        "\n",
        "from urllib.request import urlretrieve\n",
        "\n",
        "from os import mkdir, makedirs, remove, listdir\n",
        "\n",
        "from collections import Counter\n",
        "\n",
        "\n",
        "with open('/content/drive/MyDrive/Research/NLP/GloveTexFiles/bn_glove.39M.300d.txt','rb') as f:\n",
        "    lines = f.readlines()\n",
        "    \n",
        "glove_weights = np.zeros((len(lines), 300))\n",
        "words = []\n",
        "for i, line in enumerate(lines):\n",
        "    word_weights = line.split()\n",
        "    words.append(word_weights[0])\n",
        "    weight = word_weights[1:]\n",
        "    glove_weights[i] = np.array([float(w) for w in weight])\n",
        "word_vocab = [w.decode(\"utf-8\") for w in words]\n",
        "\n",
        "word2glove = dict(zip(word_vocab, glove_weights))"
      ],
      "execution_count": null,
      "outputs": []
    },
    {
      "cell_type": "code",
      "metadata": {
        "id": "Vpa-k2bQ3LKp"
      },
      "source": [
        "u_words_total = [k for k,v in u_words_counter]\n",
        "word_vocab = dict(zip(word_vocab, range(len(word_vocab))))\n",
        "word_in_glove = np.array([w in word_vocab for w in u_words_total])\n",
        "\n",
        "words_in_glove = [w for w,is_true in zip(u_words_total,word_in_glove) if is_true]\n",
        "words_not_in_glove = [w for w,is_true in zip(u_words_total,word_in_glove) if not is_true]"
      ],
      "execution_count": null,
      "outputs": []
    },
    {
      "cell_type": "code",
      "metadata": {
        "id": "vKASRo2H4zWX"
      },
      "source": [
        "df= df[df['Headline'].notnull()]"
      ],
      "execution_count": null,
      "outputs": []
    },
    {
      "cell_type": "code",
      "metadata": {
        "id": "wTlavxSY42ta"
      },
      "source": [
        "word2num = dict(zip(words_in_glove,range(len(words_in_glove))))\n",
        "len_glove_words = len(word2num)\n",
        "freq_words_not_glove = [w for w in words_not_in_glove if w in u_words_frequent]\n",
        "b = dict(zip(freq_words_not_glove,range(len(word2num), len(word2num)+len(freq_words_not_glove))))\n",
        "word2num = dict(**word2num, **b)\n",
        "word2num['<Other>'] = len(word2num)\n",
        "num2word = dict(zip(word2num.values(), word2num.keys()))\n",
        "df_new = df[df['Headline'].notnull()]\n",
        "int_text = [[word2num[word] if word in word2num else word2num['<Other>'] \n",
        "             for word in content.split()]  for content in df.Headline.values\n",
        "           ]"
      ],
      "execution_count": null,
      "outputs": []
    },
    {
      "cell_type": "code",
      "metadata": {
        "id": "gHd9HA1r4-Kz"
      },
      "source": [
        "num2word[len(word2num)] = '<PAD>'\n",
        "word2num['<PAD>'] = len(word2num)\n",
        "\n",
        "for i, t in enumerate(int_text):\n",
        "    if len(t)<500:\n",
        "        int_text[i] = [word2num['<PAD>']]*(500-len(t)) + t\n",
        "    elif len(t)>500:\n",
        "        int_text[i] = t[:500]\n",
        "    else:\n",
        "        continue\n",
        "\n",
        "x = np.array(int_text)\n",
        "y = (df.Label.values=='Fake').astype('int')\n",
        "y = (df.Label.values=='Authentic').astype('int')\n",
        "\n",
        "X_train, X_test, y_train, y_test = train_test_split(x, y, test_size=0.1)"
      ],
      "execution_count": null,
      "outputs": []
    },
    {
      "cell_type": "code",
      "metadata": {
        "id": "-rKwvoo55IiB"
      },
      "source": [
        "from scipy.stats import logistic\n",
        "X_train=logistic.cdf(X_train)"
      ],
      "execution_count": null,
      "outputs": []
    },
    {
      "cell_type": "code",
      "metadata": {
        "colab": {
          "base_uri": "https://localhost:8080/"
        },
        "id": "g_CvfAIU5NEL",
        "outputId": "fe794739-0813-482b-c73a-049e8fa24114"
      },
      "source": [
        "x[1:2]"
      ],
      "execution_count": null,
      "outputs": [
        {
          "output_type": "execute_result",
          "data": {
            "text/plain": [
              "array([[2213, 2213, 2213, 2213, 2213, 2213, 2213, 2213, 2213, 2213, 2213,\n",
              "        2213, 2213, 2213, 2213, 2213, 2213, 2213, 2213, 2213, 2213, 2213,\n",
              "        2213, 2213, 2213, 2213, 2213, 2213, 2213, 2213, 2213, 2213, 2213,\n",
              "        2213, 2213, 2213, 2213, 2213, 2213, 2213, 2213, 2213, 2213, 2213,\n",
              "        2213, 2213, 2213, 2213, 2213, 2213, 2213, 2213, 2213, 2213, 2213,\n",
              "        2213, 2213, 2213, 2213, 2213, 2213, 2213, 2213, 2213, 2213, 2213,\n",
              "        2213, 2213, 2213, 2213, 2213, 2213, 2213, 2213, 2213, 2213, 2213,\n",
              "        2213, 2213, 2213, 2213, 2213, 2213, 2213, 2213, 2213, 2213, 2213,\n",
              "        2213, 2213, 2213, 2213, 2213, 2213, 2213, 2213, 2213, 2213, 2213,\n",
              "        2213, 2213, 2213, 2213, 2213, 2213, 2213, 2213, 2213, 2213, 2213,\n",
              "        2213, 2213, 2213, 2213, 2213, 2213, 2213, 2213, 2213, 2213, 2213,\n",
              "        2213, 2213, 2213, 2213, 2213, 2213, 2213, 2213, 2213, 2213, 2213,\n",
              "        2213, 2213, 2213, 2213, 2213, 2213, 2213, 2213, 2213, 2213, 2213,\n",
              "        2213, 2213, 2213, 2213, 2213, 2213, 2213, 2213, 2213, 2213, 2213,\n",
              "        2213, 2213, 2213, 2213, 2213, 2213, 2213, 2213, 2213, 2213, 2213,\n",
              "        2213, 2213, 2213, 2213, 2213, 2213, 2213, 2213, 2213, 2213, 2213,\n",
              "        2213, 2213, 2213, 2213, 2213, 2213, 2213, 2213, 2213, 2213, 2213,\n",
              "        2213, 2213, 2213, 2213, 2213, 2213, 2213, 2213, 2213, 2213, 2213,\n",
              "        2213, 2213, 2213, 2213, 2213, 2213, 2213, 2213, 2213, 2213, 2213,\n",
              "        2213, 2213, 2213, 2213, 2213, 2213, 2213, 2213, 2213, 2213, 2213,\n",
              "        2213, 2213, 2213, 2213, 2213, 2213, 2213, 2213, 2213, 2213, 2213,\n",
              "        2213, 2213, 2213, 2213, 2213, 2213, 2213, 2213, 2213, 2213, 2213,\n",
              "        2213, 2213, 2213, 2213, 2213, 2213, 2213, 2213, 2213, 2213, 2213,\n",
              "        2213, 2213, 2213, 2213, 2213, 2213, 2213, 2213, 2213, 2213, 2213,\n",
              "        2213, 2213, 2213, 2213, 2213, 2213, 2213, 2213, 2213, 2213, 2213,\n",
              "        2213, 2213, 2213, 2213, 2213, 2213, 2213, 2213, 2213, 2213, 2213,\n",
              "        2213, 2213, 2213, 2213, 2213, 2213, 2213, 2213, 2213, 2213, 2213,\n",
              "        2213, 2213, 2213, 2213, 2213, 2213, 2213, 2213, 2213, 2213, 2213,\n",
              "        2213, 2213, 2213, 2213, 2213, 2213, 2213, 2213, 2213, 2213, 2213,\n",
              "        2213, 2213, 2213, 2213, 2213, 2213, 2213, 2213, 2213, 2213, 2213,\n",
              "        2213, 2213, 2213, 2213, 2213, 2213, 2213, 2213, 2213, 2213, 2213,\n",
              "        2213, 2213, 2213, 2213, 2213, 2213, 2213, 2213, 2213, 2213, 2213,\n",
              "        2213, 2213, 2213, 2213, 2213, 2213, 2213, 2213, 2213, 2213, 2213,\n",
              "        2213, 2213, 2213, 2213, 2213, 2213, 2213, 2213, 2213, 2213, 2213,\n",
              "        2213, 2213, 2213, 2213, 2213, 2213, 2213, 2213, 2213, 2213, 2213,\n",
              "        2213, 2213, 2213, 2213, 2213, 2213, 2213, 2213, 2213, 2213, 2213,\n",
              "        2213, 2213, 2213, 2213, 2213, 2213, 2213, 2213, 2213, 2213, 2213,\n",
              "        2213, 2213, 2213, 2213, 2213, 2213, 2213, 2213, 2213, 2213, 2213,\n",
              "        2213, 2213, 2213, 2213, 2213, 2213, 2213, 2213, 2213, 2213, 2213,\n",
              "        2213, 2213, 2213, 2213, 2213, 2213, 2213, 2213, 2213, 2213, 2213,\n",
              "        2213, 2213, 2213, 2213, 2213, 2213, 2213, 2213, 2213, 2213, 2213,\n",
              "        2213, 2213, 2213, 2213, 2213, 2213, 2213, 2213, 2213, 2213, 2213,\n",
              "        2213, 2213, 2213, 2213, 2213, 2213, 2213, 2213, 2213, 2213, 2213,\n",
              "        2213, 2213, 2213, 2213, 2213, 2213, 2213, 2213, 2213, 2213, 2213,\n",
              "        2213, 2213, 2213, 2213, 2213, 2213, 2213, 2213, 2213, 2213, 2212,\n",
              "        2212,   75, 2212,   30, 1432]])"
            ]
          },
          "metadata": {},
          "execution_count": 132
        }
      ]
    },
    {
      "cell_type": "code",
      "metadata": {
        "colab": {
          "base_uri": "https://localhost:8080/"
        },
        "id": "CCSmKXt05o4m",
        "outputId": "cc60af2b-04db-49b6-bc28-48b0f2136168"
      },
      "source": [
        "import gensim\n",
        "from gensim.models import KeyedVectors\n",
        "\n",
        "word2vec = KeyedVectors.load_word2vec_format(\"/content/drive/MyDrive/Research/NLP/GloveTexFiles/GoogleNewsvectorsnegative300.bin\", binary=True)\n",
        "import pandas as pd\n",
        "import numpy as np\n",
        "data=pd.read_excel(\"/content/drive/MyDrive/Research/NLP/Sentiment Data/Copy of FakevsAuthentic news edit sany.xlsx\")\n",
        "data.Headline=data.Headline.astype(str)\n",
        "data.Label = data.Label.replace({'Authentic': 1, 'Fake': 0})\n",
        "data = data.dropna(subset=['Label'])\n",
        "textdata=data['Headline']\n",
        "labels=data['Label']\n",
        "from tensorflow.keras.utils import to_categorical\n",
        "from keras.preprocessing.text import Tokenizer\n",
        "from keras.preprocessing.sequence import pad_sequences\n",
        "MAX_NB_WORDS=200000\n",
        "\n",
        "\n",
        "tokenizer = Tokenizer(num_words=MAX_NB_WORDS)\n",
        "tokenizer.fit_on_texts(textdata)\n",
        "sequences = tokenizer.texts_to_sequences(textdata)\n",
        "\n",
        "word_index = tokenizer.word_index\n",
        "\n",
        "print('Found %s unique tokens.' % len(word_index))\n",
        "\n",
        "x_traindata = pad_sequences(sequences, maxlen=200)\n",
        "\n",
        "y_labels = to_categorical(np.asarray(labels))\n",
        "\n",
        "model=word2vec\n",
        "vocab_size = len(tokenizer.word_index) + 1\n",
        "embedding_matrix = np.zeros((vocab_size, 300))\n",
        "for word, i in tokenizer.word_index.items():\n",
        "\tembedding_vector = model.wv[model.wv.index2word[i]]\n",
        "\tif embedding_vector is not None:\n",
        "\t\tembedding_matrix[i] = embedding_vector"
      ],
      "execution_count": null,
      "outputs": [
        {
          "output_type": "stream",
          "name": "stdout",
          "text": [
            "Found 4009 unique tokens.\n"
          ]
        },
        {
          "output_type": "stream",
          "name": "stderr",
          "text": [
            "/usr/local/lib/python3.7/dist-packages/ipykernel_launcher.py:35: DeprecationWarning: Call to deprecated `wv` (Attribute will be removed in 4.0.0, use self instead).\n"
          ]
        }
      ]
    },
    {
      "cell_type": "code",
      "metadata": {
        "colab": {
          "base_uri": "https://localhost:8080/"
        },
        "id": "sKddoUjI6__f",
        "outputId": "6ba29349-ff50-4587-f7c1-9955beeb1497"
      },
      "source": [
        "model = Sequential()\n",
        "model.add(Embedding(len(word2num), 50)) # , batch_size=batch_size\n",
        "model.add(LSTM(128, dropout=0.2, recurrent_dropout=0.2)\n",
        "         )\n",
        "model.add(Dense(1, activation='sigmoid'))\n",
        "\n",
        "model.compile(loss='binary_crossentropy', optimizer='rmsprop', metrics=['accuracy'])\n",
        "model.summary()"
      ],
      "execution_count": null,
      "outputs": [
        {
          "output_type": "stream",
          "name": "stdout",
          "text": [
            "Model: \"sequential_31\"\n",
            "_________________________________________________________________\n",
            " Layer (type)                Output Shape              Param #   \n",
            "=================================================================\n",
            " embedding_30 (Embedding)    (None, None, 50)          110700    \n",
            "                                                                 \n",
            " lstm_12 (LSTM)              (None, 128)               91648     \n",
            "                                                                 \n",
            " dense_12 (Dense)            (None, 1)                 129       \n",
            "                                                                 \n",
            "=================================================================\n",
            "Total params: 202,477\n",
            "Trainable params: 202,477\n",
            "Non-trainable params: 0\n",
            "_________________________________________________________________\n"
          ]
        }
      ]
    },
    {
      "cell_type": "code",
      "metadata": {
        "colab": {
          "base_uri": "https://localhost:8080/"
        },
        "id": "kBnw2Si47ZXv",
        "outputId": "2656cc9f-4fa0-42cd-efd2-dbccc764c3c7"
      },
      "source": [
        "batch_size = 50\n",
        "\n",
        "model.fit(X_train, y_train, batch_size=batch_size, epochs=10, validation_data=(X_test, y_test))"
      ],
      "execution_count": null,
      "outputs": [
        {
          "output_type": "stream",
          "name": "stdout",
          "text": [
            "Epoch 1/10\n",
            "112/112 [==============================] - 175s 2s/step - loss: 0.6893 - accuracy: 0.5426 - val_loss: 0.6944 - val_accuracy: 0.4984\n",
            "Epoch 2/10\n",
            "112/112 [==============================] - 179s 2s/step - loss: 0.7605 - accuracy: 0.5279 - val_loss: 0.7126 - val_accuracy: 0.5016\n",
            "Epoch 3/10\n",
            "112/112 [==============================] - 172s 2s/step - loss: 0.6973 - accuracy: 0.5100 - val_loss: 0.6969 - val_accuracy: 0.4984\n",
            "Epoch 4/10\n",
            "112/112 [==============================] - 169s 2s/step - loss: 0.6917 - accuracy: 0.5295 - val_loss: 0.7067 - val_accuracy: 0.4984\n",
            "Epoch 5/10\n",
            "112/112 [==============================] - 169s 2s/step - loss: 0.6791 - accuracy: 0.5627 - val_loss: 0.7142 - val_accuracy: 0.4968\n",
            "Epoch 6/10\n",
            "112/112 [==============================] - 169s 2s/step - loss: 0.6902 - accuracy: 0.5311 - val_loss: 0.7389 - val_accuracy: 0.4984\n",
            "Epoch 7/10\n",
            "112/112 [==============================] - 169s 2s/step - loss: 0.6720 - accuracy: 0.5927 - val_loss: 0.7866 - val_accuracy: 0.4984\n",
            "Epoch 8/10\n",
            "112/112 [==============================] - 168s 2s/step - loss: 0.6705 - accuracy: 0.5722 - val_loss: 0.7085 - val_accuracy: 0.5194\n",
            "Epoch 9/10\n",
            "112/112 [==============================] - 169s 2s/step - loss: 0.6638 - accuracy: 0.5914 - val_loss: 0.7003 - val_accuracy: 0.5194\n",
            "Epoch 10/10\n",
            "112/112 [==============================] - 169s 2s/step - loss: 0.6605 - accuracy: 0.5943 - val_loss: 0.6912 - val_accuracy: 0.5210\n"
          ]
        },
        {
          "output_type": "execute_result",
          "data": {
            "text/plain": [
              "<keras.callbacks.History at 0x7f1af20daf50>"
            ]
          },
          "metadata": {},
          "execution_count": 135
        }
      ]
    },
    {
      "cell_type": "code",
      "metadata": {
        "colab": {
          "base_uri": "https://localhost:8080/"
        },
        "id": "FnvNy3QI8VIz",
        "outputId": "b4ee5d83-2de8-4b47-c7bf-648686d8a07a"
      },
      "source": [
        "model.evaluate(X_test, y_test)"
      ],
      "execution_count": null,
      "outputs": [
        {
          "output_type": "stream",
          "name": "stdout",
          "text": [
            "20/20 [==============================] - 3s 159ms/step - loss: 0.6912 - accuracy: 0.5210\n"
          ]
        },
        {
          "output_type": "execute_result",
          "data": {
            "text/plain": [
              "[0.6912419199943542, 0.5209677219390869]"
            ]
          },
          "metadata": {},
          "execution_count": 136
        }
      ]
    },
    {
      "cell_type": "code",
      "metadata": {
        "colab": {
          "base_uri": "https://localhost:8080/"
        },
        "id": "nmoRAjFU7gDr",
        "outputId": "86951466-1395-44bc-d8a2-94ec07a278ef"
      },
      "source": [
        "sentence = \"যুক্তরাষ্ট্রে ঘাস কাটছেন সাকিব আল হাসান\"\n",
        "sentence_num = [word2num[w] if w in word2num else word2num['<Other>'] for w in sentence.split()]\n",
        "sentence_num = [word2num['<PAD>']]*(500-len(sentence_num)) + sentence_num\n",
        "\n",
        "sentence_num = np.array(sentence_num)\n",
        "sentence_num=logistic.cdf(sentence_num)\n",
        "model.predict(sentence_num[None,:])"
      ],
      "execution_count": null,
      "outputs": [
        {
          "output_type": "execute_result",
          "data": {
            "text/plain": [
              "array([[0.565838]], dtype=float32)"
            ]
          },
          "metadata": {},
          "execution_count": 26
        }
      ]
    }
  ]
}